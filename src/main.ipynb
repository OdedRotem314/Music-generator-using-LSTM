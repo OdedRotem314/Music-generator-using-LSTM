{
 "cells": [
  {
   "cell_type": "code",
   "execution_count": 1,
   "metadata": {},
   "outputs": [
    {
     "name": "stderr",
     "output_type": "stream",
     "text": [
      "/home/odedrot/.conda/envs/odedenv/lib/python3.6/site-packages/gensim/similarities/__init__.py:15: UserWarning: The gensim.similarities.levenshtein submodule is disabled, because the optional Levenshtein package <https://pypi.org/project/python-Levenshtein/> is unavailable. Install Levenhstein (e.g. `pip install python-Levenshtein`) to suppress this warning.\n",
      "  warnings.warn(msg)\n"
     ]
    }
   ],
   "source": [
    "import argparse\n",
    "from hw3 import *\n",
    "\n",
    "BASE_PATH = '/home/odedrot/DL_ex_3/'\n",
    "GENSIM_GLOVE_VECTORS_PATH = f'{BASE_PATH}/gensim_glove_vectors.txt'\n",
    "\n",
    "\n",
    "def main():\n",
    "    # Parse arguments\n",
    "    parser = argparse.ArgumentParser(\n",
    "        description='For only lyrics generation, load-model without epochs but with start-word')\n",
    "    parser.add_argument('--train-model', help='Train a new model', required=False)\n",
    "    parser.add_argument('--load-model', help='Load an existing model', required=False)\n",
    "    parser.add_argument('--start-word', help='Word to start generating lyrics from', required=False)\n",
    "    parser.add_argument('--n-lyrics', help='Number of lyrics to generate', required=False)\n",
    "    parser.add_argument('--midi-path', help='Melody to use when generating lyrics', required=False)\n",
    "    parser.add_argument('--epochs', help='Number of epochs to train', required=False)\n",
    "    parser.add_argument('--relative',\n",
    "                        help='Whether the input melody should be aligned to the text, '\n",
    "                             'put \"1\" to next the relative argument (--relative 1)',\n",
    "                        required=False)\n",
    "    args = vars(parser.parse_args())\n",
    "\n",
    "    # Load word2vec model\n",
    "    word2vec_model = gensim.models.keyedvectors.Word2VecKeyedVectors.load_word2vec_format(GENSIM_GLOVE_VECTORS_PATH)\n",
    "\n",
    "    # Load and pre-process the data\n",
    "    relative = False if args['relative'] is None else True\n",
    "    data_gen = LyricsMelodyDataGenerator(TRAIN_SET_PATH,\n",
    "                                         TEST_SET_PATH,\n",
    "                                         MIDI_FILES_PATH,\n",
    "                                         MAX_TEXT_SEQUENCE_LENGTH,\n",
    "                                         MAX_MELODY_SEQUENCE_LENGTH,\n",
    "                                         64,\n",
    "                                         relative)\n",
    "\n",
    "    # Extract an embedding matrix according to the vocabulary in the data and the word2vec model\n",
    "    embedding_matrix = extract_embedding_matrix(word2vec_model, data_gen.tokenizer)\n",
    "\n",
    "    # NOTE: you can train a new model or load an existing one, choose the proper block for you to run\n",
    "\n",
    "    # Get the proper model\n",
    "    model = None\n",
    "\n",
    "    if args['load_model'] is not None:\n",
    "        # Load an existing model\n",
    "        model = tf.keras.models.load_model(f'{BASE_PATH}/{args[\"load_model\"]}.h5')\n",
    "\n",
    "    elif args['train_model'] is not None:\n",
    "        # Build the model\n",
    "        model = build_model(embedding_matrix=embedding_matrix,\n",
    "                            max_sequence_length=data_gen.X_tr.shape[1])\n",
    "\n",
    "    if model is None:\n",
    "        raise ValueError(\"You must give a model to work with!\")\n",
    "\n",
    "    # Train the model if required\n",
    "    if args['epochs'] is not None:\n",
    "        history = model.fit(data_gen,\n",
    "                            epochs=int(args['epochs']),\n",
    "                            validation_data=([data_gen.X_val_text, data_gen.X_val_melody], data_gen.y_val),\n",
    "                            verbose=1,\n",
    "                            use_multiprocessing=True)\n",
    "        model.save(BASE_PATH+args[\"train_model\"]+'.h5')\n",
    "\n",
    "    # Generate lyrics from using the trained model\n",
    "    if args['start_word'] is not None and args['midi_path'] is not None and args['n_lyrics'] is not None:\n",
    "        print(generate_lyrics(model,\n",
    "                              data_gen.tokenizer,\n",
    "                              args['midi_path'],\n",
    "                              args['start_word'],\n",
    "                              int(args['n_lyrics']),\n",
    "                              relative))"
   ]
  },
  {
   "cell_type": "code",
   "execution_count": 4,
   "metadata": {},
   "outputs": [
    {
     "ename": "TypeError",
     "evalue": "main() takes 0 positional arguments but 4 were given",
     "output_type": "error",
     "traceback": [
      "\u001b[0;31m---------------------------------------------------------------------------\u001b[0m",
      "\u001b[0;31mTypeError\u001b[0m                                 Traceback (most recent call last)",
      "\u001b[0;32m<ipython-input-4-5c7acc40f2ac>\u001b[0m in \u001b[0;36m<module>\u001b[0;34m\u001b[0m\n\u001b[1;32m      3\u001b[0m \u001b[0mn_words\u001b[0m \u001b[0;34m=\u001b[0m \u001b[0;36m20\u001b[0m\u001b[0;34m\u001b[0m\u001b[0;34m\u001b[0m\u001b[0m\n\u001b[1;32m      4\u001b[0m \u001b[0mtest_song\u001b[0m \u001b[0;34m=\u001b[0m \u001b[0;34m'data/midi_files/The_Bangles_-_Eternal_Flame.mid'\u001b[0m\u001b[0;34m\u001b[0m\u001b[0;34m\u001b[0m\u001b[0m\n\u001b[0;32m----> 5\u001b[0;31m \u001b[0mmain\u001b[0m\u001b[0;34m(\u001b[0m\u001b[0morig_model\u001b[0m\u001b[0;34m,\u001b[0m \u001b[0mfirst_word\u001b[0m\u001b[0;34m,\u001b[0m \u001b[0mn_words\u001b[0m\u001b[0;34m,\u001b[0m \u001b[0mtest_song\u001b[0m\u001b[0;34m)\u001b[0m\u001b[0;34m\u001b[0m\u001b[0;34m\u001b[0m\u001b[0m\n\u001b[0m",
      "\u001b[0;31mTypeError\u001b[0m: main() takes 0 positional arguments but 4 were given"
     ]
    }
   ],
   "source": [
    "orig_model = 'relative_model_3_epochs.h5'\n",
    "first_word = 'i'\n",
    "n_words = 20\n",
    "test_song = 'data/midi_files/The_Bangles_-_Eternal_Flame.mid'\n",
    "main(orig_model, first_word, n_words, test_song)"
   ]
  },
  {
   "cell_type": "code",
   "execution_count": null,
   "metadata": {},
   "outputs": [],
   "source": [
    "python main.py --train-model relative_model --epochs 1 --relative 1\n",
    "\n",
    "python main.py --load-model relative_model --start-word i --n-lyrics 20 --midi-path ../data/midi_files/The_Bangles_-_Eternal_Flame.mid --relative 1\n",
    "\n",
    "\n",
    "python main.py --train-model orig_model --epochs 1\n",
    "\n",
    "python main.py --load-model orig_model --start-word i --n-lyrics 20 --midi-path ../data/midi_files/The_Bangles_-_Eternal_Flame.mid"
   ]
  }
 ],
 "metadata": {
  "kernelspec": {
   "display_name": "odedenv",
   "language": "python",
   "name": "odedenv"
  },
  "language_info": {
   "codemirror_mode": {
    "name": "ipython",
    "version": 3
   },
   "file_extension": ".py",
   "mimetype": "text/x-python",
   "name": "python",
   "nbconvert_exporter": "python",
   "pygments_lexer": "ipython3",
   "version": "3.6.11"
  }
 },
 "nbformat": 4,
 "nbformat_minor": 4
}
